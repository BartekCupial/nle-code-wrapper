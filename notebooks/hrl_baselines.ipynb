{
 "cells": [
  {
   "cell_type": "code",
   "execution_count": 2,
   "metadata": {},
   "outputs": [],
   "source": [
    "import matplotlib.pyplot as plt\n",
    "import pandas as pd\n",
    "import seaborn as sns\n",
    "import numpy as np\n",
    "import wandb"
   ]
  },
  {
   "cell_type": "code",
   "execution_count": null,
   "metadata": {},
   "outputs": [],
   "source": [
    "api = wandb.Api()"
   ]
  },
  {
   "cell_type": "code",
   "execution_count": 4,
   "metadata": {},
   "outputs": [],
   "source": [
    "sns.set(font_scale=1.5)\n",
    "sns.set_style('whitegrid')\n",
    "sns.set_palette('deep')"
   ]
  },
  {
   "cell_type": "code",
   "execution_count": 5,
   "metadata": {},
   "outputs": [],
   "source": [
    "def get_experiment_data(filters, keys):\n",
    "    runs = api.runs(\"bartekcupial/nle_code_wrapper\", filters=filters)\n",
    "    data = []\n",
    "    for run in runs:\n",
    "        try:\n",
    "            df = run.history(samples=30000, keys=keys)\n",
    "            # df = {key: run.summary[key] for key in keys}\n",
    "            df = pd.DataFrame(df)\n",
    "            df[\"seed\"] = run.config[\"seed\"]\n",
    "            # df[\"train/env_steps\"] = run.summary_metrics[\"train/env_steps\"]\n",
    "            df[\"exp_tag\"] = run.config[\"exp_tags\"]\n",
    "            df[\"env\"] = run.config[\"env\"]\n",
    "            \n",
    "            df = df.assign(ItemList=df[keys[0]].apply(lambda x: [x] if isinstance(x, int) else x)).explode('ItemList')\n",
    "            del df[\"ItemList\"]\n",
    "        \n",
    "            data.append(df)\n",
    "        except Exception as e:\n",
    "            pass\n",
    "\n",
    "    df = pd.concat(data, axis=0).reset_index()\n",
    "    df.reset_index(drop=True, inplace=True)\n",
    "    return df"
   ]
  },
  {
   "cell_type": "code",
   "execution_count": null,
   "metadata": {},
   "outputs": [],
   "source": [
    "random_data = []\n",
    "for exp_tag in [\n",
    "    \"2025_01_09_aggregate_random_easy\", \n",
    "    \"2025_01_09_aggregate_random_hard\", \n",
    "]:\n",
    "    df = get_experiment_data({\"config.exp_tags\": exp_tag}, [\"policy_stats/avg_success_rate\", \"train/env_steps\"])\n",
    "    random_data.append(df)\n",
    "   \n",
    "random_data = pd.concat(random_data, axis=0).reset_index()"
   ]
  },
  {
   "cell_type": "code",
   "execution_count": null,
   "metadata": {},
   "outputs": [],
   "source": [
    "data = []\n",
    "for exp_tag in [\n",
    "    \"2025_01_09_aggregate_easy\", \n",
    "    \"2025_01_09_aggregate_hard\", \n",
    "]:\n",
    "    df = get_experiment_data({\"config.exp_tags\": exp_tag}, [\"policy_stats/avg_success_rate\", \"train/env_steps\"])\n",
    "    data.append(df)\n",
    "   \n",
    "data = pd.concat(data, axis=0).reset_index()"
   ]
  },
  {
   "cell_type": "code",
   "execution_count": null,
   "metadata": {},
   "outputs": [],
   "source": [
    "data[\"train/env_steps\"].max(), data[\"train/env_steps\"].min()"
   ]
  },
  {
   "cell_type": "code",
   "execution_count": null,
   "metadata": {},
   "outputs": [],
   "source": [
    "data[\"index\"] = data[\"train/env_steps\"] - data[\"train/env_steps\"] % 500_000"
   ]
  },
  {
   "cell_type": "code",
   "execution_count": null,
   "metadata": {},
   "outputs": [],
   "source": [
    "env_groups = [\n",
    "    [\n",
    "        \"MiniHack-Corridor-R3-v0\",\n",
    "        \"MiniHack-Corridor-R5-v0\",\n",
    "        \"CustomMiniHack-Corridor-R8-v0\",\n",
    "        \"CustomMiniHack-Corridor-R10-v0\",\n",
    "    ],\n",
    "    [\n",
    "        \"MiniHack-CorridorBattle-v0\",\n",
    "        \"MiniHack-CorridorBattle-Dark-v0\",\n",
    "    ],\n",
    "    [\n",
    "        \"MiniHack-WoD-Hard-Full-v0\",\n",
    "        \"MiniHack-WoD-Pro-Full-v0\",\n",
    "    ],\n",
    "    [\n",
    "        \"MiniHack-River-v0\",\n",
    "        \"MiniHack-River-Monster-v0\",\n",
    "        \"MiniHack-River-Lava-v0\",\n",
    "        \"MiniHack-River-MonsterLava-v0\",\n",
    "        \"MiniHack-River-Narrow-v0\",\n",
    "    ],\n",
    "    [\n",
    "        \"MiniHack-Quest-Easy-v0\",\n",
    "        \"MiniHack-Quest-Medium-v0\",\n",
    "        \"MiniHack-Quest-Hard-v0\",\n",
    "    ],\n",
    "    [\n",
    "        \"MiniHack-MultiRoom-N10-v0\",\n",
    "        \"MiniHack-MultiRoom-N6-Locked-v0\",\n",
    "        \"MiniHack-MultiRoom-N10-Lava-v0\",\n",
    "        \"MiniHack-MultiRoom-N6-Monster-v0\",\n",
    "        \"MiniHack-MultiRoom-N6-Extreme-v0\",\n",
    "        \"MiniHack-MultiRoom-N6-LavaMonsters-v0\",\n",
    "    ],\n",
    "    [\n",
    "        \"MiniHack-Freeze-Lava-Full-v0\",  # cross lava freeze\n",
    "        \"MiniHack-LavaCross-Levitate-Full-v0\",  # cross lava levitation\n",
    "        \"MiniHack-LavaCross-Full-v0\",  # cross lava freeze or levitation\n",
    "    ],\n",
    "    [\n",
    "        \"MiniHack-HideNSeek-Mapped-v0\",\n",
    "        \"MiniHack-HideNSeek-v0\",\n",
    "        \"MiniHack-HideNSeek-Lava-v0\",\n",
    "        \"MiniHack-HideNSeek-Big-v0\",\n",
    "    ],\n",
    "]"
   ]
  },
  {
   "cell_type": "code",
   "execution_count": null,
   "metadata": {},
   "outputs": [],
   "source": [
    "env_group = env_groups[0]"
   ]
  },
  {
   "cell_type": "code",
   "execution_count": null,
   "metadata": {},
   "outputs": [],
   "source": [
    "env_group"
   ]
  },
  {
   "cell_type": "code",
   "execution_count": null,
   "metadata": {},
   "outputs": [],
   "source": [
    "n_rows = len(env_groups)\n",
    "n_cols = max([len(e) for e in env_groups])\n",
    "sns.set(font_scale=1.2)\n",
    "sns.set_style('whitegrid')\n",
    "\n",
    "fig, axes = plt.subplots(n_rows, n_cols, figsize=(4 * n_cols, 4 * n_rows))\n",
    "\n",
    "sns_colors = [\n",
    "    \"lightgreen\",\n",
    "    \"green\",\n",
    "    \"lightblue\",\n",
    "    \"blue\",\n",
    "]\n",
    "eval_column = \"policy_stats/avg_success_rate\"\n",
    "\n",
    "for i, env_group in enumerate(env_groups):\n",
    "    for e, env in enumerate(env_group):\n",
    "        for k, difficulty in enumerate([\"easy\", \"hard\"]):\n",
    "            env_data = data[data[\"env\"] == env]\n",
    "            env_data = env_data[env_data[\"exp_tag\"].str.contains(difficulty)]\n",
    "\n",
    "            baseline_data = random_data[random_data[\"env\"] == env]\n",
    "            baseline_data = baseline_data[baseline_data[\"exp_tag\"].str.contains(difficulty)]\n",
    "            baseline_val = baseline_data[eval_column].mean()\n",
    "            axes[i][e].plot([0, 10_000_000], [baseline_val, baseline_val], linestyle='-.', label=f\"random policy {difficulty}\", linewidth=4, color=sns_colors[0 + 2 * k])\n",
    "\n",
    "            legend = \"full\"\n",
    "            sns.lineplot(data=env_data, x=\"index\", y=eval_column, ax=axes[i][e], errorbar=('ci', 90), linewidth=4,\n",
    "                            legend=legend, label=f\"hrl policy {difficulty}\", linestyle=\"-\", err_kws={\"alpha\": .15}, color=sns_colors[1 + 2 * k])\n",
    "\n",
    "            axes[i][e].set_ylabel(\"Average Success Rate\")\n",
    "            axes[i][e].set_xlabel(\"# Steps\")\n",
    "            axes[i][e].set_xlim(0, 10_000_000 - 500_000)\n",
    "            axes[i][e].set_ylim(0, 1)\n",
    "            axes[i][e].set_title(f\"{env}\")\n",
    "            axes[i][e].get_legend().remove()\n",
    "\n",
    "# Get the last axes\n",
    "last_axes = axes[-1][-1]\n",
    "\n",
    "# Add legend to the last axes\n",
    "handles, labels = last_axes.get_lines(), [l.get_label() for l in last_axes.get_lines()]\n",
    "last_axes.legend(handles, labels, loc='center left', bbox_to_anchor=(1, 0.5))\n",
    "\n",
    "plt.tight_layout()\n",
    "\n",
    "# Show or save the plot\n",
    "plt.show()"
   ]
  }
 ],
 "metadata": {
  "kernelspec": {
   "display_name": "ncw",
   "language": "python",
   "name": "python3"
  },
  "language_info": {
   "codemirror_mode": {
    "name": "ipython",
    "version": 3
   },
   "file_extension": ".py",
   "mimetype": "text/x-python",
   "name": "python",
   "nbconvert_exporter": "python",
   "pygments_lexer": "ipython3",
   "version": "3.10.16"
  }
 },
 "nbformat": 4,
 "nbformat_minor": 2
}
